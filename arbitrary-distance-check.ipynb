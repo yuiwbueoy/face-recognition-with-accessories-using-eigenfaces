{
 "cells": [
  {
   "cell_type": "markdown",
   "id": "73493982",
   "metadata": {},
   "source": [
    "Replace with predict cell"
   ]
  },
  {
   "cell_type": "code",
   "execution_count": null,
   "id": "d3672806",
   "metadata": {},
   "outputs": [],
   "source": [
    "ArbDist = 360905699.8243332\n",
    "\n",
    "def project (W , X , mu):                        \n",
    "    return np.matmul(W.T , X-mu)\n",
    "\n",
    "def dist_metric(p,q):                            #Function for basic calculations of euclidean distance\n",
    "    p = np.asarray(p).flatten()\n",
    "    q = np.asarray (q).flatten()\n",
    "    return np.sqrt (np.sum (np. power ((p-q) ,2)))\n",
    "\n",
    "def predict (W, mu , projections, y, X):         #predict Function to get mindist\n",
    "    minDist = float(\"inf\")\n",
    "    minClass = -1\n",
    "    Q = project (W, X.reshape (-1 , 1) , mu)     #Multiply Eigenvectors by InputImage - Mean, to generate Weight vector. \n",
    "    for i in range (len(projections)):           #This part sorts thru dist array and find mindist\n",
    "        dist = dist_metric( projections[i], Q)   # Calulate distance between input and weights using each element of Weight vector, and find minimum\n",
    "        if dist < minDist:\n",
    "            minDist = dist\n",
    "            minClass = i\n",
    "    if minDist>ArbDist:\n",
    "            minClass = -1\n",
    "    return minClass\n",
    "#print(eigenvectors.shape)\n",
    "#print((X[0].reshape(-1,1) - mean).shape)\n",
    "\n",
    "projections = []\n",
    "for xi in X:\n",
    "    projections.append(project(eigenvectors, xi.reshape(-1, 1) , mean)) # Weight vector generation\n",
    "\n",
    "\n",
    "image = Image.open(r\"junhantest01.jpg\") #Unknown image input processing\n",
    "image = ImageOps.exif_transpose(image)\n",
    "image = image.convert (\"L\")\n",
    "if (DEFAULT_SIZE is not None ):\n",
    "    image = image.resize (DEFAULT_SIZE , Image.ANTIALIAS )\n",
    "test_image = np. asarray (image , dtype =np. uint8 )\n",
    "nosign = Image.open(r\"no-sign.jpg\")\n",
    "nosign = np.asarray(nosign, dtype = np.uint8)\n",
    "predicted = predict(eigenvectors, mean , projections, y, test_image)\n",
    "\n",
    "if predicted == -1:\n",
    "    plt.style.use(\"dark_background\")\n",
    "    subplot ( title =\"Prediction\", images =[test_image, nosign], rows =1, cols =2, \n",
    "         sptitles = [\"Unknown image\", \"Prediction: NOT IN DATASET\"] , colormap =plt.cm.gray , \n",
    "         filename =\"prediction_test.png\", figsize = (8,8))\n",
    "else: \n",
    "    plt.style.use(\"dark_background\")\n",
    "    subplot ( title =\"Prediction\", images =[test_image, X[predicted]], rows =1, cols =2, \n",
    "         sptitles = [\"Unknown image\", \"Prediction :{0}\".format(y[predicted])] , colormap =plt.cm.gray , \n",
    "         filename =\"prediction_test.png\", figsize = (8,8))\n",
    "print(predicted)"
   ]
  },
  {
   "cell_type": "code",
   "execution_count": null,
   "id": "98dffd2a",
   "metadata": {},
   "outputs": [],
   "source": [
    "Gaussian Blur"
   ]
  },
  {
   "cell_type": "code",
   "execution_count": null,
   "id": "4756239c",
   "metadata": {},
   "outputs": [],
   "source": [
    "image = Image.open(r\"junhantest01.jpg\")\n",
    "blur = np.asarray(image, dtype =np. uint8 )\n",
    "gauss = cv2.GaussianBlur(blur,(5,5),0)\n",
    "\n",
    "# display the image\n",
    "fig, ax = plt.subplots()\n",
    "plt.imshow(image)\n"
   ]
  }
 ],
 "metadata": {
  "kernelspec": {
   "display_name": "Python 3 (ipykernel)",
   "language": "python",
   "name": "python3"
  },
  "language_info": {
   "codemirror_mode": {
    "name": "ipython",
    "version": 3
   },
   "file_extension": ".py",
   "mimetype": "text/x-python",
   "name": "python",
   "nbconvert_exporter": "python",
   "pygments_lexer": "ipython3",
   "version": "3.9.12"
  }
 },
 "nbformat": 4,
 "nbformat_minor": 5
}
